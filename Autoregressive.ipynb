{
 "cells": [
  {
   "cell_type": "code",
   "execution_count": 10,
   "metadata": {
    "collapsed": false
   },
   "outputs": [
    {
     "name": "stdout",
     "output_type": "stream",
     "text": [
      "[ 1.42774247 -0.56913796  1.17611531  0.78677364  0.1029751   0.1601538\n",
      " -0.10480153  1.29357335  0.81665969 -0.95907541 -0.99873235  0.50069429\n",
      " -1.46161821 -0.51717189 -0.59164111  0.68158845  0.65408297  0.08835145\n",
      " -0.32200714 -0.15241167 -0.44750489  0.99955261  0.65530595 -2.76573498\n",
      "  1.22527211  0.58182719 -0.11928691 -0.56904321 -1.17419715  1.30738993\n",
      "  0.3748986   0.54298635  0.16080491  1.30156371  1.33669301 -0.22323512\n",
      "  1.32829733  0.23968697  0.3637598  -1.45037655  0.59335754  0.72985709\n",
      " -1.2199081   0.1798508   0.21046229 -2.7080474  -0.19077065  0.27731034\n",
      "  0.03309348 -0.76591642  1.6781941   1.39058524  0.90090305  0.59879752\n",
      "  0.47292005 -0.69842071 -0.66472664  0.31709667  1.52405837 -0.68550266\n",
      " -0.45168528  1.02298183  1.0702383   0.0715683   0.18902233 -0.64881441\n",
      " -1.0554358   0.31017667 -0.37184912 -0.99293512  0.75648317 -0.94712816\n",
      "  0.92809561  0.8318293  -1.21087511 -0.89085186  0.47463454  0.28632871\n",
      "  0.61799254  0.4291876  -1.5900451  -0.74348284 -1.21940309 -0.82285595\n",
      " -0.59325298  0.72346207 -0.80389972 -0.27973846  1.70421948  1.08482625\n",
      "  0.49522311 -0.06559397 -0.43837433  0.223804    0.57778393  0.55333465\n",
      " -0.68346122  0.51374122  0.13123778 -1.60322245]\n"
     ]
    }
   ],
   "source": [
    "import numpy as np\n",
    "from statsmodels.tsa.arima_process import *\n",
    "randn = np.random.randn\n",
    "from pandas import *\n",
    "import matplotlib.pyplot as plt\n",
    "from pylab import *\n",
    "\n",
    "ar = [1]\n",
    "ma = [1]\n",
    "nsample =100\n",
    "\n",
    "ts = statsmodels.tsa.arima_process.arma_generate_sample(ar, ma, nsample)\n",
    "time = np.arange(100);\n",
    "print ts\n"
   ]
  },
  {
   "cell_type": "code",
   "execution_count": null,
   "metadata": {
    "collapsed": true
   },
   "outputs": [],
   "source": []
  }
 ],
 "metadata": {
  "anaconda-cloud": {},
  "kernelspec": {
   "display_name": "Python [conda root]",
   "language": "python",
   "name": "conda-root-py"
  },
  "language_info": {
   "codemirror_mode": {
    "name": "ipython",
    "version": 2
   },
   "file_extension": ".py",
   "mimetype": "text/x-python",
   "name": "python",
   "nbconvert_exporter": "python",
   "pygments_lexer": "ipython2",
   "version": "2.7.12"
  }
 },
 "nbformat": 4,
 "nbformat_minor": 1
}
