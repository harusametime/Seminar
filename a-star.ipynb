{
 "cells": [
  {
   "cell_type": "code",
   "execution_count": 62,
   "metadata": {
    "collapsed": false
   },
   "outputs": [
    {
     "name": "stdout",
     "output_type": "stream",
     "text": [
      "Populating the interactive namespace from numpy and matplotlib\n"
     ]
    }
   ],
   "source": [
    "%matplotlib inline\n",
    "%pylab inline\n",
    "import numpy\n",
    "import time\n",
    "import matplotlib.pyplot as plt\n",
    "import warnings\n",
    "warnings.filterwarnings('ignore')\n",
    "\n",
    "from IPython.display import display, clear_output"
   ]
  },
  {
   "cell_type": "code",
   "execution_count": 66,
   "metadata": {
    "collapsed": false
   },
   "outputs": [
    {
     "data": {
      "image/png": "[encoded data removed]",
      "text/plain": [
       "<matplotlib.figure.Figure at 0xd210b00>"
      ]
     },
     "metadata": {},
     "output_type": "display_data"
    },
    {
     "name": "stdout",
     "output_type": "stream",
     "text": [
      "103\n"
     ]
    },
    {
     "data": {
      "image/png": "[encoded data removed]",
      "text/plain": [
       "<matplotlib.figure.Figure at 0xd210b00>"
      ]
     },
     "metadata": {},
     "output_type": "display_data"
    }
   ],
   "source": [
    "# Size of the area\n",
    "n_row = 20\n",
    "n_col = 20\n",
    "\n",
    "# Where is the person's initial position?\n",
    "start = numpy.array([0,0])\n",
    "\n",
    "# Where is the goal?\n",
    "goal = numpy.array([n_row-1, n_col-1-8])\n",
    "\n",
    "# The rate of walls over the area\n",
    "wall_rate = 0.2\n",
    "\n",
    "# Initialize the area with \"0\"\n",
    "area = numpy.zeros((n_row, n_col))\n",
    "\n",
    "# Here it generates walls that the person can not pass.\n",
    "# The walls are denoted by \"1\", and put randomly on \"wall_selected\".\n",
    "# The number of walls depends on the \"wall_rate\"\n",
    "wall_base = numpy.random.rand(n_row, n_col)\n",
    "condlist = [wall_base <=wall_rate, wall_base>wall_rate]\n",
    "choicelist = [1, 0]\n",
    "wall_selected = numpy.select(condlist,choicelist)\n",
    "area = wall_selected\n",
    "\n",
    "# Present position is initialized by \"start\".\n",
    "present = start\n",
    "\n",
    "# Each point on the area is initialized with n_row * n_col (sufficiently large value).\n",
    "# \"scores\" is the numpy matrix that stores the scores.\n",
    "scores = n_row * n_col * numpy.ones((n_row, n_col))\n",
    "\n",
    "# We know the score at the start point\n",
    "scores[present[0],present[1]] = numpy.sum(numpy.absolute(goal-present))\n",
    "\n",
    "# Visitied positions (large_value(n_row*n_col): visited, 1: non-visited)\n",
    "visited = numpy.ones((n_row, n_col))\n",
    "\n",
    "n_iteration = 0\n",
    "\n",
    "f, ax = plt.subplots()\n",
    "\n",
    "# A-star algorithm starts here.\n",
    "while any(present != goal):\n",
    "    \n",
    "    n_iteration = n_iteration +1\n",
    "    \n",
    "    #Select not-visited position where the score is the smallest\n",
    "    # This is judged by matrices of scores and visited\n",
    "    min_pos = numpy.zeros(2)\n",
    "    weighted_scores = scores * visited\n",
    "    min_index = numpy.argmin(weighted_scores)\n",
    "    min_pos[0] = int(min_index // n_col)\n",
    "    min_pos[1] = int(min_index % n_col)\n",
    "    min_value = scores[min_pos[0],min_pos[1]]\n",
    "    \n",
    "    # The position gets visited.\n",
    "    visited[min_pos[0],min_pos[1]] = n_col * n_row\n",
    "    next = numpy.zeros(2)\n",
    "    \n",
    "    # Update present position on the area\n",
    "    area[min_pos[0],min_pos[1]] = 3\n",
    "    \n",
    "    #draw animation\n",
    "    im = plt.imshow(area,interpolation='none',extent=[0,1,0,1])\n",
    "    clear_output(wait=True)\n",
    "    display(f)\n",
    "    \n",
    "    if min_pos[0] > 0:\n",
    "        next[0] = min_pos[0]-1\n",
    "        next[1] = min_pos[1]\n",
    "        if all(next==goal):\n",
    "            break\n",
    "        # When the next position is wall, put a large value for the score.\n",
    "        if area[next[0],next[1]] == 1:\n",
    "            temp_score = n_col * n_row * 100000\n",
    "        #Otherwise calculate the score\n",
    "        else:\n",
    "            temp_score = min_value + 1.0+ numpy.sum(numpy.absolute(goal-next)) - numpy.sum(numpy.absolute(goal-min_pos))\n",
    "        if temp_score < scores[next[0],next[1]]:\n",
    "            scores[next[0],next[1]] = temp_score\n",
    "            visited[next[0],next[1]] = 1\n",
    "    if min_pos[0] < n_row-1:\n",
    "        next[0] = min_pos[0]+1\n",
    "        next[1] = min_pos[1]\n",
    "        if all(next==goal):\n",
    "            break\n",
    "        # When the next position is wall, put a large value for the score.\n",
    "        if area[next[0],next[1]] == 1:\n",
    "            temp_score = n_col * n_row * 100000\n",
    "        #Otherwise calculate the score\n",
    "        else:\n",
    "            temp_score = min_value + 1.0+ numpy.sum(numpy.absolute(goal-next)) - numpy.sum(numpy.absolute(goal-min_pos))\n",
    "        if temp_score < scores[next[0],next[1]]:\n",
    "            scores[next[0],next[1]] = temp_score\n",
    "            visited[next[0],next[1]] = 1\n",
    "    if min_pos[1] > 0:\n",
    "        next[0] = min_pos[0]\n",
    "        next[1] = min_pos[1] - 1\n",
    "        if all(next==goal):\n",
    "            break\n",
    "        # When the next position is wall, put a large value for the score.\n",
    "        if area[next[0],next[1]] == 1:\n",
    "            temp_score = n_col * n_row * 100000\n",
    "        #Otherwise calculate the score\n",
    "        else:\n",
    "            temp_score = min_value + 1.0+ numpy.sum(numpy.absolute(goal-next)) - numpy.sum(numpy.absolute(goal-min_pos))\n",
    "        if temp_score < scores[next[0],next[1]]:\n",
    "            scores[next[0],next[1]] = temp_score\n",
    "            visited[next[0],next[1]] = 1\n",
    "    if min_pos[1] < n_col-1:\n",
    "        next[0] = min_pos[0]\n",
    "        next[1] = min_pos[1] + 1\n",
    "        if all(next==goal):\n",
    "            break\n",
    "        # When the next position is wall, put a large value for the score.\n",
    "        if area[next[0],next[1]] == 1:\n",
    "            temp_score = n_col * n_row * 100000\n",
    "        #Otherwise calculate the score\n",
    "        else:\n",
    "            temp_score = min_value + 1.0+ numpy.sum(numpy.absolute(goal-next)) - numpy.sum(numpy.absolute(goal-min_pos))\n",
    "        if temp_score < scores[next[0],next[1]]:\n",
    "            scores[next[0],next[1]] = temp_score\n",
    "            visited[next[0],next[1]] = 1\n",
    "    \n",
    "    if numpy.min(scores*visited) >= n_col * n_row:\n",
    "        print \"fail at \",\n",
    "        print n_iteration\n",
    "        break\n",
    "        \n",
    "print n_iteration"
   ]
  },
  {
   "cell_type": "markdown",
   "metadata": {},
   "source": [
    "Are you sure you want to run A\\* algorithm with the above map?"
   ]
  },
  {
   "cell_type": "code",
   "execution_count": null,
   "metadata": {
    "collapsed": true
   },
   "outputs": [],
   "source": []
  },
  {
   "cell_type": "code",
   "execution_count": null,
   "metadata": {
    "collapsed": true
   },
   "outputs": [],
   "source": []
  },
  {
   "cell_type": "code",
   "execution_count": null,
   "metadata": {
    "collapsed": true
   },
   "outputs": [],
   "source": []
  }
 ],
 "metadata": {
  "kernelspec": {
   "display_name": "Python 2",
   "language": "python",
   "name": "python2"
  },
  "language_info": {
   "codemirror_mode": {
    "name": "ipython",
    "version": 2
   },
   "file_extension": ".py",
   "mimetype": "text/x-python",
   "name": "python",
   "nbconvert_exporter": "python",
   "pygments_lexer": "ipython2",
   "version": "2.7.12"
  }
 },
 "nbformat": 4,
 "nbformat_minor": 0
}
