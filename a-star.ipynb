{
 "cells": [
  {
   "cell_type": "code",
   "execution_count": 15,
   "metadata": {
    "collapsed": false
   },
   "outputs": [],
   "source": [
    "%matplotlib inline\n",
    "import numpy\n",
    "import matplotlib.pyplot as plt\n",
    "\n",
    "# Size of the map\n",
    "n_row = 20\n",
    "n_col = 20\n",
    "\n",
    "# Where is the person's initial position?\n",
    "start = (0,0)\n",
    "\n",
    "# Where is the goal?\n",
    "goal = (n_row, n_col)\n",
    "\n",
    "# The rate of walls over the map\n",
    "wall_rate = 0.1\n",
    "\n",
    "# Initialize the map with \"0\"\n",
    "map = numpy.zeros((n_row, n_col))\n",
    "\n",
    "# Here it generates walls that the person can not pass.\n",
    "# The walls are denoted by \"1\", and put randomly on \"wall_selected\".\n",
    "# The number of walls depends on the \"wall_rate\"\n",
    "wall_base = numpy.random.rand(n_row, n_col)\n",
    "condlist = [wall_base <=wall_rate, wall_base>wall_rate]\n",
    "choicelist = [1, 0]\n",
    "wall_selected = numpy.select(condlist,choicelist)\n",
    "\n",
    "num =2\n",
    "ax = plt.gca()\n",
    "ax.set_xticks([ i / float(num) for i in range(num)])\n",
    "ax.set_yticks([ i / float(num) for i in range(num)])\n",
    "plt.imshow(wall_selected,interpolation='none',extent=[0,1,0,1])\n",
    "plt.show()"
   ]
  },
  {
   "cell_type": "markdown",
   "metadata": {},
   "source": [
    "Are you sure you want to run A\\* algorithm with the above map?"
   ]
  },
  {
   "cell_type": "code",
   "execution_count": null,
   "metadata": {
    "collapsed": true
   },
   "outputs": [],
   "source": []
  }
 ],
 "metadata": {
  "kernelspec": {
   "display_name": "Python 2",
   "language": "python",
   "name": "python2"
  },
  "language_info": {
   "codemirror_mode": {
    "name": "ipython",
    "version": 2
   },
   "file_extension": ".py",
   "mimetype": "text/x-python",
   "name": "python",
   "nbconvert_exporter": "python",
   "pygments_lexer": "ipython2",
   "version": "2.7.12"
  }
 },
 "nbformat": 4,
 "nbformat_minor": 0
}
